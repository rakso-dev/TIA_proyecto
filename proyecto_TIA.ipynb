{
  "nbformat": 4,
  "nbformat_minor": 0,
  "metadata": {
    "colab": {
      "provenance": [],
      "authorship_tag": "ABX9TyOb9P9saOlSg6EkWfa6kbkA",
      "include_colab_link": true
    },
    "kernelspec": {
      "name": "python3",
      "display_name": "Python 3"
    },
    "language_info": {
      "name": "python"
    },
    "gpuClass": "standard"
  },
  "cells": [
    {
      "cell_type": "markdown",
      "metadata": {
        "id": "view-in-github",
        "colab_type": "text"
      },
      "source": [
        "<a href=\"https://colab.research.google.com/github/rakso-dev/TIA_proyecto/blob/main/proyecto_TIA.ipynb\" target=\"_parent\"><img src=\"https://colab.research.google.com/assets/colab-badge.svg\" alt=\"Open In Colab\"/></a>"
      ]
    },
    {
      "cell_type": "code",
      "execution_count": 1,
      "metadata": {
        "colab": {
          "base_uri": "https://localhost:8080/"
        },
        "id": "AaKlu9u3Bx8E",
        "outputId": "c718eacc-2ef8-4bdb-efb3-7fc6fb20dfc2"
      },
      "outputs": [
        {
          "output_type": "stream",
          "name": "stdout",
          "text": [
            "Drive already mounted at /content/drive; to attempt to forcibly remount, call drive.mount(\"/content/drive\", force_remount=True).\n"
          ]
        }
      ],
      "source": [
        "import cv2\n",
        "import numpy as np\n",
        "import matplotlib.pyplot as plt\n",
        "from google.colab import drive\n",
        "drive.mount(\"/content/drive\")"
      ]
    },
    {
      "cell_type": "code",
      "source": [
        "train_dir = \"drive/MyDrive/TIA_proyecto/DATASET/TRAIN\"\n",
        "test_dir = \"drive/MyDrive/TIA_proyecto/DATASET/TEST\"\n",
        "\n",
        "from tensorflow.keras.preprocessing.image import ImageDataGenerator\n",
        "\n",
        "train_datagen = ImageDataGenerator(width_shift_range= 0.1,\n",
        "                                  horizontal_flip = True,\n",
        "                                  rescale = 1./255,\n",
        "                                  validation_split = 0.2)\n",
        "test_datagen = ImageDataGenerator(rescale = 1./255,\n",
        "                                 validation_split = 0.2)\n",
        "\n",
        "train_generator =  train_datagen.flow_from_directory(directory = train_dir,\n",
        "                                                    target_size = (150,100),\n",
        "                                                    color_mode = 'grayscale',\n",
        "                                                    class_mode = 'categorical',\n",
        "                                                    batch_size = 16,\n",
        "                                                    subset = 'training')\n",
        "validation_generator  = test_datagen.flow_from_directory(directory = test_dir,\n",
        "                                                  target_size = (150,100),\n",
        "                                                  color_mode = 'grayscale',\n",
        "                                                  class_mode = 'categorical',\n",
        "                                                  subset = 'validation')"
      ],
      "metadata": {
        "colab": {
          "base_uri": "https://localhost:8080/"
        },
        "id": "kjtCDj3KCJ54",
        "outputId": "6c230a2a-b1a2-42d0-d142-47ceb491794d"
      },
      "execution_count": 2,
      "outputs": [
        {
          "output_type": "stream",
          "name": "stdout",
          "text": [
            "Found 866 images belonging to 5 classes.\n",
            "Found 92 images belonging to 5 classes.\n"
          ]
        }
      ]
    },
    {
      "cell_type": "code",
      "source": [
        "from tensorflow.keras.models import Sequential\n",
        "from tensorflow.keras.layers import Dense, Conv2D, MaxPooling2D, Flatten\n",
        "\n",
        "model = Sequential()\n",
        "model.add(Conv2D(32, (5,5), input_shape=(150, 100, 1), activation='relu'))\n",
        "model.add(MaxPooling2D(2, 2))\n",
        "model.add(Conv2D(64, (5,5), activation='relu'))\n",
        "model.add(MaxPooling2D(2, 2))\n",
        "model.add(Conv2D(128, (5,5), activation='relu'))\n",
        "model.add(MaxPooling2D(2, 2))\n",
        "model.add(Flatten())\n",
        "model.add(Dense(1000, activation='relu'))\n",
        "model.add(Dense(5, activation='softmax'))\n",
        "\n",
        "model.compile(optimizer=\"adam\", loss=\"categorical_crossentropy\", metrics=[\"accuracy\"])"
      ],
      "metadata": {
        "id": "H3OfRshsgi1R"
      },
      "execution_count": 3,
      "outputs": []
    },
    {
      "cell_type": "code",
      "source": [
        "model.summary()"
      ],
      "metadata": {
        "colab": {
          "base_uri": "https://localhost:8080/"
        },
        "id": "KL48u3OZkcdo",
        "outputId": "33c3d1fd-a134-4a26-8df7-8cb69b7f462b"
      },
      "execution_count": 4,
      "outputs": [
        {
          "output_type": "stream",
          "name": "stdout",
          "text": [
            "Model: \"sequential\"\n",
            "_________________________________________________________________\n",
            " Layer (type)                Output Shape              Param #   \n",
            "=================================================================\n",
            " conv2d (Conv2D)             (None, 146, 96, 32)       832       \n",
            "                                                                 \n",
            " max_pooling2d (MaxPooling2D  (None, 73, 48, 32)       0         \n",
            " )                                                               \n",
            "                                                                 \n",
            " conv2d_1 (Conv2D)           (None, 69, 44, 64)        51264     \n",
            "                                                                 \n",
            " max_pooling2d_1 (MaxPooling  (None, 34, 22, 64)       0         \n",
            " 2D)                                                             \n",
            "                                                                 \n",
            " conv2d_2 (Conv2D)           (None, 30, 18, 128)       204928    \n",
            "                                                                 \n",
            " max_pooling2d_2 (MaxPooling  (None, 15, 9, 128)       0         \n",
            " 2D)                                                             \n",
            "                                                                 \n",
            " flatten (Flatten)           (None, 17280)             0         \n",
            "                                                                 \n",
            " dense (Dense)               (None, 1000)              17281000  \n",
            "                                                                 \n",
            " dense_1 (Dense)             (None, 5)                 5005      \n",
            "                                                                 \n",
            "=================================================================\n",
            "Total params: 17,543,029\n",
            "Trainable params: 17,543,029\n",
            "Non-trainable params: 0\n",
            "_________________________________________________________________\n"
          ]
        }
      ]
    },
    {
      "cell_type": "code",
      "source": [
        "from PIL import ImageFile\n",
        "ImageFile.LOAD_TRUNCATED_IMAGES = True"
      ],
      "metadata": {
        "id": "SsnRgbYg2M0e"
      },
      "execution_count": 5,
      "outputs": []
    },
    {
      "cell_type": "code",
      "source": [
        "history = model.fit(train_generator, epochs = 35, validation_data=validation_generator)"
      ],
      "metadata": {
        "colab": {
          "base_uri": "https://localhost:8080/"
        },
        "id": "R0bHdb-j05Gl",
        "outputId": "9c86fcc1-d628-4d85-ea25-a6ff907a9c36"
      },
      "execution_count": 6,
      "outputs": [
        {
          "metadata": {
            "tags": null
          },
          "name": "stdout",
          "output_type": "stream",
          "text": [
            "Epoch 1/35\n",
            "22/55 [===========>..................] - ETA: 27s - loss: 1.7661 - accuracy: 0.2485"
          ]
        },
        {
          "metadata": {
            "tags": null
          },
          "name": "stderr",
          "output_type": "stream",
          "text": [
            "/usr/local/lib/python3.8/dist-packages/PIL/Image.py:959: UserWarning: Palette images with Transparency expressed in bytes should be converted to RGBA images\n",
            "  warnings.warn(\n"
          ]
        },
        {
          "output_type": "stream",
          "name": "stdout",
          "text": [
            "55/55 [==============================] - 51s 918ms/step - loss: 1.6593 - accuracy: 0.2517 - val_loss: 1.5228 - val_accuracy: 0.2826\n",
            "Epoch 2/35\n",
            "55/55 [==============================] - 49s 877ms/step - loss: 1.4436 - accuracy: 0.3961 - val_loss: 0.9897 - val_accuracy: 0.6087\n",
            "Epoch 3/35\n",
            "55/55 [==============================] - 52s 935ms/step - loss: 1.2473 - accuracy: 0.5196 - val_loss: 0.7123 - val_accuracy: 0.6957\n",
            "Epoch 4/35\n",
            "55/55 [==============================] - 48s 874ms/step - loss: 1.0464 - accuracy: 0.5912 - val_loss: 0.3967 - val_accuracy: 0.8370\n",
            "Epoch 5/35\n",
            "55/55 [==============================] - 48s 868ms/step - loss: 0.8681 - accuracy: 0.6651 - val_loss: 0.3387 - val_accuracy: 0.9130\n",
            "Epoch 6/35\n",
            "55/55 [==============================] - 48s 872ms/step - loss: 0.6999 - accuracy: 0.7413 - val_loss: 0.2812 - val_accuracy: 0.8804\n",
            "Epoch 7/35\n",
            "55/55 [==============================] - 48s 872ms/step - loss: 0.6476 - accuracy: 0.7875 - val_loss: 0.1776 - val_accuracy: 0.9457\n",
            "Epoch 8/35\n",
            "55/55 [==============================] - 48s 872ms/step - loss: 0.5338 - accuracy: 0.8141 - val_loss: 0.1394 - val_accuracy: 0.9457\n",
            "Epoch 9/35\n",
            "55/55 [==============================] - 48s 864ms/step - loss: 0.4534 - accuracy: 0.8360 - val_loss: 0.1547 - val_accuracy: 0.9348\n",
            "Epoch 10/35\n",
            "55/55 [==============================] - 48s 869ms/step - loss: 0.3659 - accuracy: 0.8730 - val_loss: 0.2390 - val_accuracy: 0.9130\n",
            "Epoch 11/35\n",
            "55/55 [==============================] - 48s 870ms/step - loss: 0.3403 - accuracy: 0.8915 - val_loss: 0.1992 - val_accuracy: 0.9457\n",
            "Epoch 12/35\n",
            "55/55 [==============================] - 49s 893ms/step - loss: 0.2439 - accuracy: 0.9249 - val_loss: 0.1822 - val_accuracy: 0.9457\n",
            "Epoch 13/35\n",
            "55/55 [==============================] - 48s 867ms/step - loss: 0.1944 - accuracy: 0.9296 - val_loss: 0.2294 - val_accuracy: 0.9239\n",
            "Epoch 14/35\n",
            "55/55 [==============================] - 48s 863ms/step - loss: 0.1622 - accuracy: 0.9503 - val_loss: 0.1569 - val_accuracy: 0.9457\n",
            "Epoch 15/35\n",
            "55/55 [==============================] - 51s 922ms/step - loss: 0.1996 - accuracy: 0.9376 - val_loss: 0.2041 - val_accuracy: 0.9348\n",
            "Epoch 16/35\n",
            "55/55 [==============================] - 48s 866ms/step - loss: 0.1765 - accuracy: 0.9423 - val_loss: 0.1114 - val_accuracy: 0.9565\n",
            "Epoch 17/35\n",
            "55/55 [==============================] - 48s 868ms/step - loss: 0.1645 - accuracy: 0.9515 - val_loss: 0.0934 - val_accuracy: 0.9457\n",
            "Epoch 18/35\n",
            "55/55 [==============================] - 48s 870ms/step - loss: 0.1084 - accuracy: 0.9688 - val_loss: 0.0735 - val_accuracy: 0.9674\n",
            "Epoch 19/35\n",
            "55/55 [==============================] - 50s 909ms/step - loss: 0.0781 - accuracy: 0.9850 - val_loss: 0.0646 - val_accuracy: 0.9891\n",
            "Epoch 20/35\n",
            "55/55 [==============================] - 48s 866ms/step - loss: 0.0797 - accuracy: 0.9804 - val_loss: 0.0671 - val_accuracy: 0.9783\n",
            "Epoch 21/35\n",
            "55/55 [==============================] - 48s 870ms/step - loss: 0.1349 - accuracy: 0.9607 - val_loss: 0.0916 - val_accuracy: 0.9783\n",
            "Epoch 22/35\n",
            "55/55 [==============================] - 50s 917ms/step - loss: 0.0623 - accuracy: 0.9861 - val_loss: 0.1215 - val_accuracy: 0.9783\n",
            "Epoch 23/35\n",
            "55/55 [==============================] - 49s 894ms/step - loss: 0.0626 - accuracy: 0.9827 - val_loss: 0.0835 - val_accuracy: 0.9783\n",
            "Epoch 24/35\n",
            "55/55 [==============================] - 48s 867ms/step - loss: 0.0957 - accuracy: 0.9723 - val_loss: 0.1149 - val_accuracy: 0.9783\n",
            "Epoch 25/35\n",
            "55/55 [==============================] - 51s 924ms/step - loss: 0.0467 - accuracy: 0.9896 - val_loss: 0.1413 - val_accuracy: 0.9565\n",
            "Epoch 26/35\n",
            "55/55 [==============================] - 48s 868ms/step - loss: 0.0453 - accuracy: 0.9896 - val_loss: 0.1449 - val_accuracy: 0.9565\n",
            "Epoch 27/35\n",
            "55/55 [==============================] - 48s 873ms/step - loss: 0.0620 - accuracy: 0.9815 - val_loss: 0.0881 - val_accuracy: 0.9565\n",
            "Epoch 28/35\n",
            "55/55 [==============================] - 48s 865ms/step - loss: 0.0714 - accuracy: 0.9792 - val_loss: 0.1479 - val_accuracy: 0.9457\n",
            "Epoch 29/35\n",
            "55/55 [==============================] - 51s 920ms/step - loss: 0.0501 - accuracy: 0.9850 - val_loss: 0.1129 - val_accuracy: 0.9674\n",
            "Epoch 30/35\n",
            "55/55 [==============================] - 49s 881ms/step - loss: 0.0414 - accuracy: 0.9873 - val_loss: 0.1144 - val_accuracy: 0.9783\n",
            "Epoch 31/35\n",
            "55/55 [==============================] - 48s 867ms/step - loss: 0.0396 - accuracy: 0.9931 - val_loss: 0.1270 - val_accuracy: 0.9565\n",
            "Epoch 32/35\n",
            "55/55 [==============================] - 51s 918ms/step - loss: 0.0974 - accuracy: 0.9769 - val_loss: 0.1860 - val_accuracy: 0.9783\n",
            "Epoch 33/35\n",
            "55/55 [==============================] - 48s 871ms/step - loss: 0.0435 - accuracy: 0.9896 - val_loss: 0.1910 - val_accuracy: 0.9565\n",
            "Epoch 34/35\n",
            "55/55 [==============================] - 49s 880ms/step - loss: 0.0301 - accuracy: 0.9896 - val_loss: 0.1309 - val_accuracy: 0.9674\n",
            "Epoch 35/35\n",
            "55/55 [==============================] - 51s 916ms/step - loss: 0.0265 - accuracy: 0.9919 - val_loss: 0.2017 - val_accuracy: 0.9565\n"
          ]
        }
      ]
    },
    {
      "cell_type": "code",
      "source": [
        "history"
      ],
      "metadata": {
        "colab": {
          "base_uri": "https://localhost:8080/"
        },
        "id": "nY7Qmcca16CC",
        "outputId": "39a1a0c1-7e97-4ff2-bd9a-424514d921ff"
      },
      "execution_count": 7,
      "outputs": [
        {
          "data": {
            "text/plain": [
              "<keras.callbacks.History at 0x7fb31cedaa60>"
            ]
          },
          "execution_count": 7,
          "metadata": {},
          "output_type": "execute_result"
        }
      ]
    },
    {
      "cell_type": "code",
      "source": [
        "_, axarr = plt.subplots(1,2)\n",
        "\n",
        "axarr[0].plot(history.history['accuracy'])\n",
        "axarr[0].plot(history.history['val_accuracy'])\n",
        "\n",
        "axarr[1].plot(history.history['loss'])\n",
        "axarr[1].plot(history.history['val_loss'])"
      ],
      "metadata": {
        "colab": {
          "base_uri": "https://localhost:8080/",
          "height": 282
        },
        "id": "m9S8PWpkEm6R",
        "outputId": "1c6aad5e-f1e1-4651-d333-60a23d6ec611"
      },
      "execution_count": 8,
      "outputs": [
        {
          "output_type": "execute_result",
          "data": {
            "text/plain": [
              "[<matplotlib.lines.Line2D at 0x7fb317904130>]"
            ]
          },
          "metadata": {},
          "execution_count": 8
        },
        {
          "output_type": "display_data",
          "data": {
            "text/plain": [
              "<Figure size 432x288 with 2 Axes>"
            ],
            "image/png": "[encoded data removed]"
          },
          "metadata": {
            "needs_background": "light"
          }
        }
      ]
    },
    {
      "cell_type": "code",
      "source": [],
      "metadata": {
        "id": "H3EY-s8OJOtw"
      },
      "execution_count": 8,
      "outputs": []
    }
  ]
}