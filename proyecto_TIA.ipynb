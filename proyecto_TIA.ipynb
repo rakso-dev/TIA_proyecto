{
  "nbformat": 4,
  "nbformat_minor": 0,
  "metadata": {
    "colab": {
      "provenance": [],
      "authorship_tag": "ABX9TyOb9P9saOlSg6EkWfa6kbkA",
      "include_colab_link": true
    },
    "kernelspec": {
      "name": "python3",
      "display_name": "Python 3"
    },
    "language_info": {
      "name": "python"
    },
    "gpuClass": "standard"
  },
  "cells": [
    {
      "cell_type": "markdown",
      "metadata": {
        "id": "view-in-github",
        "colab_type": "text"
      },
      "source": [
        "<a href=\"https://colab.research.google.com/github/rakso-dev/TIA_proyecto/blob/main/proyecto_TIA.ipynb\" target=\"_parent\"><img src=\"https://colab.research.google.com/assets/colab-badge.svg\" alt=\"Open In Colab\"/></a>"
      ]
    },
    {
      "cell_type": "code",
      "execution_count": 1,
      "metadata": {
        "colab": {
          "base_uri": "https://localhost:8080/"
        },
        "id": "AaKlu9u3Bx8E",
        "outputId": "b7b2ee7a-7bce-4d31-d9de-f806a2a561f3"
      },
      "outputs": [
        {
          "output_type": "stream",
          "name": "stdout",
          "text": [
            "Mounted at /content/drive\n"
          ]
        }
      ],
      "source": [
        "import cv2\n",
        "import numpy as np\n",
        "import matplotlib.pyplot as plt\n",
        "from google.colab import drive\n",
        "drive.mount(\"/content/drive\")"
      ]
    },
    {
      "cell_type": "code",
      "source": [
        "train_dir = \"drive/MyDrive/TIA_proyecto/DATASET/TRAIN\"\n",
        "test_dir = \"drive/MyDrive/TIA_proyecto/DATASET/TEST\"\n",
        "\n",
        "from tensorflow.keras.preprocessing.image import ImageDataGenerator\n",
        "\n",
        "train_datagen = ImageDataGenerator(width_shift_range= 0.1,\n",
        "                                  horizontal_flip = True,\n",
        "                                  rescale = 1./255,\n",
        "                                  validation_split = 0.2)\n",
        "test_datagen = ImageDataGenerator(rescale = 1./255,\n",
        "                                 validation_split = 0.2)\n",
        "\n",
        "train_generator =  train_datagen.flow_from_directory(directory = train_dir,\n",
        "                                                    target_size = (150,100),\n",
        "                                                    color_mode = 'grayscale',\n",
        "                                                    class_mode = 'categorical',\n",
        "                                                    batch_size = 16,\n",
        "                                                    subset = 'training')\n",
        "validation_generator  = test_datagen.flow_from_directory(directory = test_dir,\n",
        "                                                  target_size = (150,100),\n",
        "                                                  color_mode = 'grayscale',\n",
        "                                                  class_mode = 'categorical',\n",
        "                                                  subset = 'validation')"
      ],
      "metadata": {
        "colab": {
          "base_uri": "https://localhost:8080/"
        },
        "id": "kjtCDj3KCJ54",
        "outputId": "9bb72978-26ea-4d11-96eb-198286619afb"
      },
      "execution_count": 2,
      "outputs": [
        {
          "output_type": "stream",
          "name": "stdout",
          "text": [
            "Found 866 images belonging to 5 classes.\n",
            "Found 92 images belonging to 5 classes.\n"
          ]
        }
      ]
    },
    {
      "cell_type": "code",
      "source": [
        "from tensorflow.keras.models import Sequential\n",
        "from tensorflow.keras.layers import Dense, Conv2D, MaxPooling2D, Flatten\n",
        "\n",
        "model = Sequential()\n",
        "model.add(Conv2D(32, (5,5), input_shape=(150, 100, 1), activation='relu'))\n",
        "model.add(MaxPooling2D(2, 2))\n",
        "model.add(Conv2D(64, (5,5), activation='relu'))\n",
        "model.add(MaxPooling2D(2, 2))\n",
        "model.add(Conv2D(128, (5,5), activation='relu'))\n",
        "model.add(MaxPooling2D(2, 2))\n",
        "model.add(Flatten())\n",
        "model.add(Dense(1000, activation='relu'))\n",
        "model.add(Dense(5, activation='softmax'))\n",
        "\n",
        "model.compile(optimizer=\"adam\", loss=\"categorical_crossentropy\", metrics=[\"accuracy\"])"
      ],
      "metadata": {
        "id": "H3OfRshsgi1R"
      },
      "execution_count": 3,
      "outputs": []
    },
    {
      "cell_type": "code",
      "source": [
        "model.summary()"
      ],
      "metadata": {
        "colab": {
          "base_uri": "https://localhost:8080/"
        },
        "id": "KL48u3OZkcdo",
        "outputId": "92e34a61-1de5-405b-f9ff-92ac802cca5d"
      },
      "execution_count": 5,
      "outputs": [
        {
          "output_type": "stream",
          "name": "stdout",
          "text": [
            "Model: \"sequential\"\n",
            "_________________________________________________________________\n",
            " Layer (type)                Output Shape              Param #   \n",
            "=================================================================\n",
            " conv2d (Conv2D)             (None, 146, 96, 32)       832       \n",
            "                                                                 \n",
            " max_pooling2d (MaxPooling2D  (None, 73, 48, 32)       0         \n",
            " )                                                               \n",
            "                                                                 \n",
            " conv2d_1 (Conv2D)           (None, 69, 44, 64)        51264     \n",
            "                                                                 \n",
            " max_pooling2d_1 (MaxPooling  (None, 34, 22, 64)       0         \n",
            " 2D)                                                             \n",
            "                                                                 \n",
            " conv2d_2 (Conv2D)           (None, 30, 18, 128)       204928    \n",
            "                                                                 \n",
            " max_pooling2d_2 (MaxPooling  (None, 15, 9, 128)       0         \n",
            " 2D)                                                             \n",
            "                                                                 \n",
            " flatten (Flatten)           (None, 17280)             0         \n",
            "                                                                 \n",
            " dense (Dense)               (None, 1000)              17281000  \n",
            "                                                                 \n",
            " dense_1 (Dense)             (None, 5)                 5005      \n",
            "                                                                 \n",
            "=================================================================\n",
            "Total params: 17,543,029\n",
            "Trainable params: 17,543,029\n",
            "Non-trainable params: 0\n",
            "_________________________________________________________________\n"
          ]
        }
      ]
    },
    {
      "cell_type": "code",
      "source": [
        "from PIL import ImageFile\n",
        "ImageFile.LOAD_TRUNCATED_IMAGES = True"
      ],
      "metadata": {
        "id": "SsnRgbYg2M0e"
      },
      "execution_count": 6,
      "outputs": []
    },
    {
      "cell_type": "code",
      "source": [
        "history = model.fit(train_generator, epochs = 35, validation_data=validation_generator)"
      ],
      "metadata": {
        "colab": {
          "base_uri": "https://localhost:8080/"
        },
        "id": "R0bHdb-j05Gl",
        "outputId": "f7b3dda2-efe2-43fd-b868-fb08696bc9c6"
      },
      "execution_count": 7,
      "outputs": [
        {
          "output_type": "stream",
          "name": "stdout",
          "text": [
            "Epoch 1/35\n",
            "21/55 [==========>...................] - ETA: 1:55 - loss: 1.6687 - accuracy: 0.2422"
          ]
        },
        {
          "output_type": "stream",
          "name": "stderr",
          "text": [
            "/usr/local/lib/python3.8/dist-packages/PIL/Image.py:959: UserWarning: Palette images with Transparency expressed in bytes should be converted to RGBA images\n",
            "  warnings.warn(\n"
          ]
        },
        {
          "output_type": "stream",
          "name": "stdout",
          "text": [
            "55/55 [==============================] - 228s 4s/step - loss: 1.5987 - accuracy: 0.2656 - val_loss: 1.2412 - val_accuracy: 0.4891\n",
            "Epoch 2/35\n",
            "55/55 [==============================] - 67s 1s/step - loss: 1.3330 - accuracy: 0.4388 - val_loss: 0.6917 - val_accuracy: 0.7609\n",
            "Epoch 3/35\n",
            "55/55 [==============================] - 69s 1s/step - loss: 1.1240 - accuracy: 0.5554 - val_loss: 0.5537 - val_accuracy: 0.7935\n",
            "Epoch 4/35\n",
            "55/55 [==============================] - 65s 1s/step - loss: 1.0148 - accuracy: 0.6085 - val_loss: 0.5256 - val_accuracy: 0.8478\n",
            "Epoch 5/35\n",
            "55/55 [==============================] - 71s 1s/step - loss: 0.8681 - accuracy: 0.6790 - val_loss: 0.3512 - val_accuracy: 0.8478\n",
            "Epoch 6/35\n",
            "55/55 [==============================] - 67s 1s/step - loss: 0.7037 - accuracy: 0.7321 - val_loss: 0.3365 - val_accuracy: 0.8587\n",
            "Epoch 7/35\n",
            "55/55 [==============================] - 66s 1s/step - loss: 0.6814 - accuracy: 0.7448 - val_loss: 0.3521 - val_accuracy: 0.8913\n",
            "Epoch 8/35\n",
            "55/55 [==============================] - 66s 1s/step - loss: 0.5640 - accuracy: 0.8083 - val_loss: 0.3117 - val_accuracy: 0.8913\n",
            "Epoch 9/35\n",
            "55/55 [==============================] - 67s 1s/step - loss: 0.3965 - accuracy: 0.8568 - val_loss: 0.3037 - val_accuracy: 0.8696\n",
            "Epoch 10/35\n",
            "55/55 [==============================] - 72s 1s/step - loss: 0.4151 - accuracy: 0.8603 - val_loss: 0.2134 - val_accuracy: 0.9130\n",
            "Epoch 11/35\n",
            "55/55 [==============================] - 67s 1s/step - loss: 0.2875 - accuracy: 0.9145 - val_loss: 0.2758 - val_accuracy: 0.9239\n",
            "Epoch 12/35\n",
            "55/55 [==============================] - 65s 1s/step - loss: 0.2596 - accuracy: 0.9111 - val_loss: 0.2445 - val_accuracy: 0.9130\n",
            "Epoch 13/35\n",
            "55/55 [==============================] - 66s 1s/step - loss: 0.2563 - accuracy: 0.9111 - val_loss: 0.3051 - val_accuracy: 0.9348\n",
            "Epoch 14/35\n",
            "55/55 [==============================] - 70s 1s/step - loss: 0.2546 - accuracy: 0.9273 - val_loss: 0.2705 - val_accuracy: 0.9130\n",
            "Epoch 15/35\n",
            "55/55 [==============================] - 66s 1s/step - loss: 0.1185 - accuracy: 0.9665 - val_loss: 0.2646 - val_accuracy: 0.9348\n",
            "Epoch 16/35\n",
            "55/55 [==============================] - 68s 1s/step - loss: 0.1637 - accuracy: 0.9584 - val_loss: 0.4242 - val_accuracy: 0.9130\n",
            "Epoch 17/35\n",
            "55/55 [==============================] - 66s 1s/step - loss: 0.1404 - accuracy: 0.9573 - val_loss: 0.3759 - val_accuracy: 0.9239\n",
            "Epoch 18/35\n",
            "55/55 [==============================] - 70s 1s/step - loss: 0.0999 - accuracy: 0.9711 - val_loss: 0.3845 - val_accuracy: 0.9457\n",
            "Epoch 19/35\n",
            "55/55 [==============================] - 69s 1s/step - loss: 0.1266 - accuracy: 0.9538 - val_loss: 0.2420 - val_accuracy: 0.9565\n",
            "Epoch 20/35\n",
            "55/55 [==============================] - 66s 1s/step - loss: 0.1017 - accuracy: 0.9654 - val_loss: 0.4145 - val_accuracy: 0.9239\n",
            "Epoch 21/35\n",
            "55/55 [==============================] - 66s 1s/step - loss: 0.0775 - accuracy: 0.9769 - val_loss: 0.4303 - val_accuracy: 0.9022\n",
            "Epoch 22/35\n",
            "55/55 [==============================] - 67s 1s/step - loss: 0.0722 - accuracy: 0.9746 - val_loss: 0.2170 - val_accuracy: 0.9565\n",
            "Epoch 23/35\n",
            "55/55 [==============================] - 71s 1s/step - loss: 0.0851 - accuracy: 0.9723 - val_loss: 0.3055 - val_accuracy: 0.9457\n",
            "Epoch 24/35\n",
            "55/55 [==============================] - 66s 1s/step - loss: 0.0574 - accuracy: 0.9804 - val_loss: 0.2847 - val_accuracy: 0.9565\n",
            "Epoch 25/35\n",
            "55/55 [==============================] - 73s 1s/step - loss: 0.0490 - accuracy: 0.9873 - val_loss: 0.4396 - val_accuracy: 0.8804\n",
            "Epoch 26/35\n",
            "55/55 [==============================] - 66s 1s/step - loss: 0.1077 - accuracy: 0.9538 - val_loss: 0.6390 - val_accuracy: 0.9239\n",
            "Epoch 27/35\n",
            "55/55 [==============================] - 70s 1s/step - loss: 0.0845 - accuracy: 0.9769 - val_loss: 0.2205 - val_accuracy: 0.9457\n",
            "Epoch 28/35\n",
            "55/55 [==============================] - 68s 1s/step - loss: 0.0395 - accuracy: 0.9885 - val_loss: 0.2094 - val_accuracy: 0.9565\n",
            "Epoch 29/35\n",
            "55/55 [==============================] - 66s 1s/step - loss: 0.0328 - accuracy: 0.9896 - val_loss: 0.1369 - val_accuracy: 0.9565\n",
            "Epoch 30/35\n",
            "55/55 [==============================] - 65s 1s/step - loss: 0.0428 - accuracy: 0.9908 - val_loss: 0.2993 - val_accuracy: 0.9457\n",
            "Epoch 31/35\n",
            "55/55 [==============================] - 72s 1s/step - loss: 0.0094 - accuracy: 0.9988 - val_loss: 0.3567 - val_accuracy: 0.9457\n",
            "Epoch 32/35\n",
            "55/55 [==============================] - 66s 1s/step - loss: 0.0179 - accuracy: 0.9954 - val_loss: 0.4240 - val_accuracy: 0.9348\n",
            "Epoch 33/35\n",
            "55/55 [==============================] - 63s 1s/step - loss: 0.0450 - accuracy: 0.9908 - val_loss: 0.3364 - val_accuracy: 0.9130\n",
            "Epoch 34/35\n",
            "55/55 [==============================] - 63s 1s/step - loss: 0.0950 - accuracy: 0.9804 - val_loss: 0.3407 - val_accuracy: 0.9348\n",
            "Epoch 35/35\n",
            "55/55 [==============================] - 70s 1s/step - loss: 0.0839 - accuracy: 0.9746 - val_loss: 0.2921 - val_accuracy: 0.9565\n"
          ]
        }
      ]
    },
    {
      "cell_type": "code",
      "source": [
        "history"
      ],
      "metadata": {
        "colab": {
          "base_uri": "https://localhost:8080/"
        },
        "id": "nY7Qmcca16CC",
        "outputId": "dd1f7cf6-fc4d-4df4-ce78-d97522410aec"
      },
      "execution_count": 8,
      "outputs": [
        {
          "output_type": "execute_result",
          "data": {
            "text/plain": [
              "<keras.callbacks.History at 0x7f5fe14e5100>"
            ]
          },
          "metadata": {},
          "execution_count": 8
        }
      ]
    },
    {
      "cell_type": "code",
      "source": [
        "_, axarr = plt.subplots(1,2)\n",
        "\n",
        "axarr[0].plot(history.history['accuracy'])\n",
        "axarr[0].plot(history.history['val_accuracy'])\n",
        "\n",
        "axarr[1].plot(history.history['loss'])\n",
        "axarr[1].plot(history.history['val_loss'])"
      ],
      "metadata": {
        "colab": {
          "base_uri": "https://localhost:8080/",
          "height": 282
        },
        "id": "m9S8PWpkEm6R",
        "outputId": "02ebb582-d67e-4968-9889-7e32543d13ad"
      },
      "execution_count": 9,
      "outputs": [
        {
          "output_type": "execute_result",
          "data": {
            "text/plain": [
              "[<matplotlib.lines.Line2D at 0x7f5fde408070>]"
            ]
          },
          "metadata": {},
          "execution_count": 9
        },
        {
          "output_type": "display_data",
          "data": {
            "text/plain": [
              "<Figure size 432x288 with 2 Axes>"
            ],
            "image/png": "[encoded data removed]"
          },
          "metadata": {
            "needs_background": "light"
          }
        }
      ]
    },
    {
      "cell_type": "code",
      "source": [],
      "metadata": {
        "id": "H3EY-s8OJOtw"
      },
      "execution_count": 8,
      "outputs": []
    }
  ]
}